{
 "cells": [
  {
   "cell_type": "markdown",
   "metadata": {},
   "source": [
    "## Example: Sam"
   ]
  },
  {
   "cell_type": "markdown",
   "metadata": {},
   "source": [
    "### Value iteration and Q values"
   ]
  },
  {
   "cell_type": "code",
   "execution_count": 1,
   "metadata": {
    "collapsed": true
   },
   "outputs": [],
   "source": [
    "import numpy as np\n",
    "nan=np.nan\n",
    "T = np.array([\n",
    "    [[0.95, 0.05], [0.7, 0.3]],\n",
    "    [[0.5, 0.5], [0.1, 0.9]]\n",
    "])\n",
    "R = np.array([\n",
    "    [[7., 7.], [10., 10.]],\n",
    "    [[0., 0.], [2., 2.]]\n",
    "])\n",
    "#R2 = np.array([[7, 10], [0, 2]])\n",
    "possible_actions = [[0, 1], [0, 1]]"
   ]
  },
  {
   "cell_type": "code",
   "execution_count": 2,
   "metadata": {
    "collapsed": true
   },
   "outputs": [],
   "source": [
    "Q = np.full((2, 2), -np.inf) # -inf for impossible actions\n",
    "for state, actions in enumerate(possible_actions):\n",
    "    Q[state, actions] = 0.0 # Initial value = 0.0, for all possible actions\n",
    "discount_rate = 0.8\n",
    "n_iterations = 1000\n",
    "for iteration in range(n_iterations):\n",
    "    Q_prev = Q.copy()\n",
    "    for s in range(2):\n",
    "        for a in possible_actions[s]:\n",
    "            #Q[s, a] = R2[s, a] + np.sum([T[s, a, sp] * discount_rate * np.max(Q_prev[sp])\n",
    "                                         #for sp in range(2)])\n",
    "            Q[s, a] = np.sum([T[s, a, sp] * (R[s, a, sp] + discount_rate * np.max(Q_prev[sp])) for sp in range(2)])"
   ]
  },
  {
   "cell_type": "code",
   "execution_count": 3,
   "metadata": {},
   "outputs": [
    {
     "data": {
      "text/plain": [
       "array([[ 35.0952381 ,  35.71428571],\n",
       "       [ 23.80952381,  22.        ]])"
      ]
     },
     "execution_count": 3,
     "metadata": {},
     "output_type": "execute_result"
    }
   ],
   "source": [
    "Q"
   ]
  },
  {
   "cell_type": "markdown",
   "metadata": {},
   "source": [
    "### Q Learning"
   ]
  },
  {
   "cell_type": "code",
   "execution_count": 6,
   "metadata": {
    "collapsed": true
   },
   "outputs": [],
   "source": [
    "rnd = np.random\n",
    "learning_rate0 = 0.7 # = (1 - alpha) in the lecture slides\n",
    "learning_rate_decay = 0.1\n",
    "n_iterations = 50000\n",
    "s = 0 # start in state 0\n",
    "Q = np.full((2, 2), -np.inf) # -inf for impossible actions\n",
    "for state, actions in enumerate(possible_actions):\n",
    "    Q[state, actions] = 0.0 # Initial value = 0.0, for all possible actions\n",
    "for iteration in range(n_iterations):\n",
    "    a = rnd.choice(possible_actions[s]) # choose an action (randomly)\n",
    "    sp = rnd.choice(range(2), p=T[s, a]) # pick next state using T[s, a]\n",
    "    reward = R[s, a, sp]\n",
    "    learning_rate = learning_rate0 / (1 + iteration * learning_rate_decay)\n",
    "    Q[s, a] = learning_rate * Q[s, a] + (1 - learning_rate) * (\n",
    "        reward + discount_rate * np.max(Q[sp])\n",
    "    )\n",
    "    s = sp # move to next state"
   ]
  },
  {
   "cell_type": "code",
   "execution_count": 7,
   "metadata": {},
   "outputs": [
    {
     "data": {
      "text/plain": [
       "array([[ 44.92561055,  39.55006615],\n",
       "       [ 35.94052306,  37.94034806]])"
      ]
     },
     "execution_count": 7,
     "metadata": {},
     "output_type": "execute_result"
    }
   ],
   "source": [
    "Q"
   ]
  },
  {
   "cell_type": "code",
   "execution_count": null,
   "metadata": {
    "collapsed": true
   },
   "outputs": [],
   "source": []
  }
 ],
 "metadata": {
  "kernelspec": {
   "display_name": "Python 3",
   "language": "python",
   "name": "python3"
  },
  "language_info": {
   "codemirror_mode": {
    "name": "ipython",
    "version": 3
   },
   "file_extension": ".py",
   "mimetype": "text/x-python",
   "name": "python",
   "nbconvert_exporter": "python",
   "pygments_lexer": "ipython3",
   "version": "3.6.1"
  },
  "toc": {
   "nav_menu": {},
   "number_sections": true,
   "sideBar": true,
   "skip_h1_title": false,
   "toc_cell": false,
   "toc_position": {},
   "toc_section_display": "block",
   "toc_window_display": false
  }
 },
 "nbformat": 4,
 "nbformat_minor": 2
}
